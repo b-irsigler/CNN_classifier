{
 "cells": [
  {
   "cell_type": "code",
   "execution_count": 2,
   "id": "advisory-estate",
   "metadata": {},
   "outputs": [
    {
     "name": "stdout",
     "output_type": "stream",
     "text": [
      "2.4.0-rc0\n"
     ]
    }
   ],
   "source": [
    "import matplotlib.pyplot as plt\n",
    "import numpy as np\n",
    "import pandas as pd\n",
    "import seaborn as sns\n",
    "\n",
    "\n",
    "# Make numpy printouts easier to read.\n",
    "np.set_printoptions(precision=3, suppress=True)\n",
    "\n",
    "import tensorflow as tf\n",
    "\n",
    "from tensorflow import keras\n",
    "from tensorflow.keras import layers\n",
    "from tensorflow.keras.layers.experimental import preprocessing\n",
    "from tensorflow.keras.callbacks import EarlyStopping\n",
    "from sklearn.model_selection import train_test_split\n",
    "\n",
    "print(tf.__version__)\n",
    "\n",
    "from scipy.stats import pearsonr, spearmanr\n",
    "plt.rcParams.update({\n",
    "    \"text.usetex\": True,\n",
    "    \"font.family\": \"serif\",\n",
    "    \"font.serif\": [\"Palatino\"],\n",
    "    \"font.size\": 20,\n",
    "})"
   ]
  },
  {
   "cell_type": "code",
   "execution_count": 5,
   "id": "stock-closure",
   "metadata": {},
   "outputs": [],
   "source": [
    "diagsN7m5 = pd.read_csv('../../../data/tobias/EC3_data/diagsN7m5.csv',names=np.arange(10000)).T\n",
    "fidelsN7m5 = pd.read_csv('../../../data/tobias/EC3_data/fidelsN7m5.csv',names=np.arange(10000)).T\n",
    "\n",
    "N_instance, N_state = diagsN7m5.shape\n",
    "\n",
    "diagsN7m5 = (diagsN7m5 - diagsN7m5.to_numpy().min())\n",
    "diagsN7m5 /= (diagsN7m5.to_numpy().max() - diagsN7m5.to_numpy().min())"
   ]
  },
  {
   "cell_type": "code",
   "execution_count": 6,
   "id": "saved-value",
   "metadata": {},
   "outputs": [],
   "source": [
    "#convert fidelities into one_hot representation"
   ]
  },
  {
   "cell_type": "code",
   "execution_count": 7,
   "id": "seeing-software",
   "metadata": {},
   "outputs": [],
   "source": [
    "uni_fidels = np.sort(fidelsN7m5[0].unique())"
   ]
  },
  {
   "cell_type": "code",
   "execution_count": 8,
   "id": "usual-olympus",
   "metadata": {},
   "outputs": [],
   "source": [
    "one_hot_fidels = pd.DataFrame()"
   ]
  },
  {
   "cell_type": "code",
   "execution_count": 9,
   "id": "eligible-framing",
   "metadata": {},
   "outputs": [],
   "source": [
    "for uni_fidel in uni_fidels:\n",
    "    one_hot_fidels[uni_fidel] = 1*(fidelsN7m5 == uni_fidel).to_numpy().flatten()"
   ]
  },
  {
   "cell_type": "code",
   "execution_count": 10,
   "id": "loving-wiring",
   "metadata": {},
   "outputs": [
    {
     "data": {
      "text/html": [
       "<div>\n",
       "<style scoped>\n",
       "    .dataframe tbody tr th:only-of-type {\n",
       "        vertical-align: middle;\n",
       "    }\n",
       "\n",
       "    .dataframe tbody tr th {\n",
       "        vertical-align: top;\n",
       "    }\n",
       "\n",
       "    .dataframe thead th {\n",
       "        text-align: right;\n",
       "    }\n",
       "</style>\n",
       "<table border=\"1\" class=\"dataframe\">\n",
       "  <thead>\n",
       "    <tr style=\"text-align: right;\">\n",
       "      <th></th>\n",
       "      <th>0.405344</th>\n",
       "      <th>0.446338</th>\n",
       "      <th>0.504930</th>\n",
       "      <th>0.529460</th>\n",
       "      <th>0.542748</th>\n",
       "      <th>0.579066</th>\n",
       "      <th>0.596918</th>\n",
       "      <th>0.601784</th>\n",
       "      <th>0.617170</th>\n",
       "      <th>0.620147</th>\n",
       "      <th>...</th>\n",
       "      <th>0.656487</th>\n",
       "      <th>0.662125</th>\n",
       "      <th>0.665196</th>\n",
       "      <th>0.694049</th>\n",
       "      <th>0.696092</th>\n",
       "      <th>0.717018</th>\n",
       "      <th>0.761217</th>\n",
       "      <th>0.765388</th>\n",
       "      <th>0.774484</th>\n",
       "      <th>0.801876</th>\n",
       "    </tr>\n",
       "  </thead>\n",
       "  <tbody>\n",
       "    <tr>\n",
       "      <th>0</th>\n",
       "      <td>0</td>\n",
       "      <td>0</td>\n",
       "      <td>0</td>\n",
       "      <td>0</td>\n",
       "      <td>0</td>\n",
       "      <td>0</td>\n",
       "      <td>0</td>\n",
       "      <td>1</td>\n",
       "      <td>0</td>\n",
       "      <td>0</td>\n",
       "      <td>...</td>\n",
       "      <td>0</td>\n",
       "      <td>0</td>\n",
       "      <td>0</td>\n",
       "      <td>0</td>\n",
       "      <td>0</td>\n",
       "      <td>0</td>\n",
       "      <td>0</td>\n",
       "      <td>0</td>\n",
       "      <td>0</td>\n",
       "      <td>0</td>\n",
       "    </tr>\n",
       "    <tr>\n",
       "      <th>1</th>\n",
       "      <td>0</td>\n",
       "      <td>0</td>\n",
       "      <td>0</td>\n",
       "      <td>0</td>\n",
       "      <td>0</td>\n",
       "      <td>0</td>\n",
       "      <td>0</td>\n",
       "      <td>0</td>\n",
       "      <td>0</td>\n",
       "      <td>0</td>\n",
       "      <td>...</td>\n",
       "      <td>1</td>\n",
       "      <td>0</td>\n",
       "      <td>0</td>\n",
       "      <td>0</td>\n",
       "      <td>0</td>\n",
       "      <td>0</td>\n",
       "      <td>0</td>\n",
       "      <td>0</td>\n",
       "      <td>0</td>\n",
       "      <td>0</td>\n",
       "    </tr>\n",
       "    <tr>\n",
       "      <th>2</th>\n",
       "      <td>0</td>\n",
       "      <td>0</td>\n",
       "      <td>0</td>\n",
       "      <td>0</td>\n",
       "      <td>0</td>\n",
       "      <td>0</td>\n",
       "      <td>0</td>\n",
       "      <td>0</td>\n",
       "      <td>1</td>\n",
       "      <td>0</td>\n",
       "      <td>...</td>\n",
       "      <td>0</td>\n",
       "      <td>0</td>\n",
       "      <td>0</td>\n",
       "      <td>0</td>\n",
       "      <td>0</td>\n",
       "      <td>0</td>\n",
       "      <td>0</td>\n",
       "      <td>0</td>\n",
       "      <td>0</td>\n",
       "      <td>0</td>\n",
       "    </tr>\n",
       "    <tr>\n",
       "      <th>3</th>\n",
       "      <td>0</td>\n",
       "      <td>0</td>\n",
       "      <td>0</td>\n",
       "      <td>0</td>\n",
       "      <td>0</td>\n",
       "      <td>0</td>\n",
       "      <td>0</td>\n",
       "      <td>0</td>\n",
       "      <td>0</td>\n",
       "      <td>0</td>\n",
       "      <td>...</td>\n",
       "      <td>0</td>\n",
       "      <td>0</td>\n",
       "      <td>0</td>\n",
       "      <td>0</td>\n",
       "      <td>0</td>\n",
       "      <td>1</td>\n",
       "      <td>0</td>\n",
       "      <td>0</td>\n",
       "      <td>0</td>\n",
       "      <td>0</td>\n",
       "    </tr>\n",
       "    <tr>\n",
       "      <th>4</th>\n",
       "      <td>1</td>\n",
       "      <td>0</td>\n",
       "      <td>0</td>\n",
       "      <td>0</td>\n",
       "      <td>0</td>\n",
       "      <td>0</td>\n",
       "      <td>0</td>\n",
       "      <td>0</td>\n",
       "      <td>0</td>\n",
       "      <td>0</td>\n",
       "      <td>...</td>\n",
       "      <td>0</td>\n",
       "      <td>0</td>\n",
       "      <td>0</td>\n",
       "      <td>0</td>\n",
       "      <td>0</td>\n",
       "      <td>0</td>\n",
       "      <td>0</td>\n",
       "      <td>0</td>\n",
       "      <td>0</td>\n",
       "      <td>0</td>\n",
       "    </tr>\n",
       "    <tr>\n",
       "      <th>...</th>\n",
       "      <td>...</td>\n",
       "      <td>...</td>\n",
       "      <td>...</td>\n",
       "      <td>...</td>\n",
       "      <td>...</td>\n",
       "      <td>...</td>\n",
       "      <td>...</td>\n",
       "      <td>...</td>\n",
       "      <td>...</td>\n",
       "      <td>...</td>\n",
       "      <td>...</td>\n",
       "      <td>...</td>\n",
       "      <td>...</td>\n",
       "      <td>...</td>\n",
       "      <td>...</td>\n",
       "      <td>...</td>\n",
       "      <td>...</td>\n",
       "      <td>...</td>\n",
       "      <td>...</td>\n",
       "      <td>...</td>\n",
       "      <td>...</td>\n",
       "    </tr>\n",
       "    <tr>\n",
       "      <th>9995</th>\n",
       "      <td>0</td>\n",
       "      <td>0</td>\n",
       "      <td>0</td>\n",
       "      <td>0</td>\n",
       "      <td>0</td>\n",
       "      <td>0</td>\n",
       "      <td>0</td>\n",
       "      <td>0</td>\n",
       "      <td>0</td>\n",
       "      <td>0</td>\n",
       "      <td>...</td>\n",
       "      <td>0</td>\n",
       "      <td>0</td>\n",
       "      <td>0</td>\n",
       "      <td>0</td>\n",
       "      <td>0</td>\n",
       "      <td>0</td>\n",
       "      <td>0</td>\n",
       "      <td>0</td>\n",
       "      <td>0</td>\n",
       "      <td>1</td>\n",
       "    </tr>\n",
       "    <tr>\n",
       "      <th>9996</th>\n",
       "      <td>0</td>\n",
       "      <td>0</td>\n",
       "      <td>0</td>\n",
       "      <td>0</td>\n",
       "      <td>0</td>\n",
       "      <td>0</td>\n",
       "      <td>0</td>\n",
       "      <td>0</td>\n",
       "      <td>0</td>\n",
       "      <td>0</td>\n",
       "      <td>...</td>\n",
       "      <td>0</td>\n",
       "      <td>0</td>\n",
       "      <td>0</td>\n",
       "      <td>0</td>\n",
       "      <td>0</td>\n",
       "      <td>0</td>\n",
       "      <td>1</td>\n",
       "      <td>0</td>\n",
       "      <td>0</td>\n",
       "      <td>0</td>\n",
       "    </tr>\n",
       "    <tr>\n",
       "      <th>9997</th>\n",
       "      <td>0</td>\n",
       "      <td>0</td>\n",
       "      <td>0</td>\n",
       "      <td>0</td>\n",
       "      <td>0</td>\n",
       "      <td>0</td>\n",
       "      <td>0</td>\n",
       "      <td>0</td>\n",
       "      <td>0</td>\n",
       "      <td>0</td>\n",
       "      <td>...</td>\n",
       "      <td>0</td>\n",
       "      <td>0</td>\n",
       "      <td>0</td>\n",
       "      <td>0</td>\n",
       "      <td>0</td>\n",
       "      <td>0</td>\n",
       "      <td>0</td>\n",
       "      <td>0</td>\n",
       "      <td>1</td>\n",
       "      <td>0</td>\n",
       "    </tr>\n",
       "    <tr>\n",
       "      <th>9998</th>\n",
       "      <td>0</td>\n",
       "      <td>0</td>\n",
       "      <td>0</td>\n",
       "      <td>0</td>\n",
       "      <td>0</td>\n",
       "      <td>0</td>\n",
       "      <td>0</td>\n",
       "      <td>1</td>\n",
       "      <td>0</td>\n",
       "      <td>0</td>\n",
       "      <td>...</td>\n",
       "      <td>0</td>\n",
       "      <td>0</td>\n",
       "      <td>0</td>\n",
       "      <td>0</td>\n",
       "      <td>0</td>\n",
       "      <td>0</td>\n",
       "      <td>0</td>\n",
       "      <td>0</td>\n",
       "      <td>0</td>\n",
       "      <td>0</td>\n",
       "    </tr>\n",
       "    <tr>\n",
       "      <th>9999</th>\n",
       "      <td>0</td>\n",
       "      <td>0</td>\n",
       "      <td>0</td>\n",
       "      <td>0</td>\n",
       "      <td>0</td>\n",
       "      <td>0</td>\n",
       "      <td>0</td>\n",
       "      <td>0</td>\n",
       "      <td>0</td>\n",
       "      <td>0</td>\n",
       "      <td>...</td>\n",
       "      <td>0</td>\n",
       "      <td>0</td>\n",
       "      <td>0</td>\n",
       "      <td>1</td>\n",
       "      <td>0</td>\n",
       "      <td>0</td>\n",
       "      <td>0</td>\n",
       "      <td>0</td>\n",
       "      <td>0</td>\n",
       "      <td>0</td>\n",
       "    </tr>\n",
       "  </tbody>\n",
       "</table>\n",
       "<p>10000 rows × 21 columns</p>\n",
       "</div>"
      ],
      "text/plain": [
       "      0.405344  0.446338  0.504930  0.529460  0.542748  0.579066  0.596918  \\\n",
       "0            0         0         0         0         0         0         0   \n",
       "1            0         0         0         0         0         0         0   \n",
       "2            0         0         0         0         0         0         0   \n",
       "3            0         0         0         0         0         0         0   \n",
       "4            1         0         0         0         0         0         0   \n",
       "...        ...       ...       ...       ...       ...       ...       ...   \n",
       "9995         0         0         0         0         0         0         0   \n",
       "9996         0         0         0         0         0         0         0   \n",
       "9997         0         0         0         0         0         0         0   \n",
       "9998         0         0         0         0         0         0         0   \n",
       "9999         0         0         0         0         0         0         0   \n",
       "\n",
       "      0.601784  0.617170  0.620147  ...  0.656487  0.662125  0.665196  \\\n",
       "0            1         0         0  ...         0         0         0   \n",
       "1            0         0         0  ...         1         0         0   \n",
       "2            0         1         0  ...         0         0         0   \n",
       "3            0         0         0  ...         0         0         0   \n",
       "4            0         0         0  ...         0         0         0   \n",
       "...        ...       ...       ...  ...       ...       ...       ...   \n",
       "9995         0         0         0  ...         0         0         0   \n",
       "9996         0         0         0  ...         0         0         0   \n",
       "9997         0         0         0  ...         0         0         0   \n",
       "9998         1         0         0  ...         0         0         0   \n",
       "9999         0         0         0  ...         0         0         0   \n",
       "\n",
       "      0.694049  0.696092  0.717018  0.761217  0.765388  0.774484  0.801876  \n",
       "0            0         0         0         0         0         0         0  \n",
       "1            0         0         0         0         0         0         0  \n",
       "2            0         0         0         0         0         0         0  \n",
       "3            0         0         1         0         0         0         0  \n",
       "4            0         0         0         0         0         0         0  \n",
       "...        ...       ...       ...       ...       ...       ...       ...  \n",
       "9995         0         0         0         0         0         0         1  \n",
       "9996         0         0         0         1         0         0         0  \n",
       "9997         0         0         0         0         0         1         0  \n",
       "9998         0         0         0         0         0         0         0  \n",
       "9999         1         0         0         0         0         0         0  \n",
       "\n",
       "[10000 rows x 21 columns]"
      ]
     },
     "execution_count": 10,
     "metadata": {},
     "output_type": "execute_result"
    }
   ],
   "source": [
    "one_hot_fidels"
   ]
  },
  {
   "cell_type": "code",
   "execution_count": 11,
   "id": "cardiovascular-stuff",
   "metadata": {},
   "outputs": [],
   "source": [
    "#add state number as second channel, ordered by energy, normalized to (0,1)"
   ]
  },
  {
   "cell_type": "code",
   "execution_count": 12,
   "id": "mineral-soviet",
   "metadata": {},
   "outputs": [],
   "source": [
    "diags_CNN = diagsN7m5.to_numpy().reshape((-1,N_state,1))\n",
    "state_CNN = np.linspace(0,1,N_state).repeat(N_instance).reshape(N_state,N_instance).T.reshape((-1,N_state,1))\n",
    "\n",
    "diags_CNN_twoChannel = np.append(diags_CNN,state_CNN,axis=2)\n"
   ]
  },
  {
   "cell_type": "code",
   "execution_count": 13,
   "id": "satellite-cassette",
   "metadata": {},
   "outputs": [],
   "source": [
    "X_train, X_test, Y_train, Y_test = train_test_split(diags_CNN_twoChannel, \\\n",
    "                                                     one_hot_fidels,\\\n",
    "                                                     test_size=.2)\n",
    "\n"
   ]
  },
  {
   "cell_type": "code",
   "execution_count": 22,
   "id": "biological-instrumentation",
   "metadata": {},
   "outputs": [],
   "source": [
    "remaining = 1\n",
    "\n",
    "X_train_reduced = np.zeros((X_train.shape[0],N_state*remaining,2))\n",
    "choice = np.arange(N_state)>=N_state*(1-remaining)\n",
    "for i in range(X_train.shape[0]):\n",
    "    np.random.shuffle(choice)\n",
    "    X_train_reduced[i,:] = X_train[i,choice]\n",
    "\n",
    "X_test_reduced = np.zeros((X_test.shape[0],N_state*remaining,2))\n",
    "choice = np.arange(N_state)>=N_state*(1-remaining)\n",
    "for i in range(X_test.shape[0]):\n",
    "    np.random.shuffle(choice)\n",
    "    X_test_reduced[i,:] = X_test[i,choice]"
   ]
  },
  {
   "cell_type": "code",
   "execution_count": 23,
   "id": "referenced-statistics",
   "metadata": {},
   "outputs": [],
   "source": [
    "#CNN"
   ]
  },
  {
   "cell_type": "code",
   "execution_count": 55,
   "id": "frequent-center",
   "metadata": {},
   "outputs": [],
   "source": [
    "tf.keras.backend.clear_session()\n",
    "model = keras.Sequential(name='CNN_classifier')\n",
    "model.add(layers.Conv1D(8, (3,), activation='relu', padding='same', input_shape=(N_state*remaining, 2)))\n",
    "model.add(layers.Conv1D(16, (3,), activation='relu', padding='same'))\n",
    "model.add(layers.Conv1D(32, (3,), activation='relu', padding='same'))\n",
    "model.add(layers.AveragePooling1D((24,)))\n",
    "model.add(layers.Flatten())\n",
    "model.add(layers.Dropout(.01))\n",
    "model.add(layers.Dense(64, activation='relu'))\n",
    "model.add(layers.Dense(64, activation='relu'))\n",
    "model.add(layers.Dense(fidelsN7m5.nunique(axis=0)[0], activation=tf.keras.activations.softmax))\n",
    "\n"
   ]
  },
  {
   "cell_type": "code",
   "execution_count": 56,
   "id": "reflected-baseline",
   "metadata": {},
   "outputs": [],
   "source": [
    "model.compile(loss='CategoricalCrossentropy',optimizer=tf.keras.optimizers.Adam(.001),metrics=['accuracy'])\n",
    "\n",
    "stop_early = tf.keras.callbacks.EarlyStopping(monitor='val_loss', patience=100)\n",
    "    \n",
    "hist = model.fit(X_train_reduced, Y_train, \\\n",
    "             epochs=2000,verbose=0,\\\n",
    "             validation_split=.2,batch_size=128,\\\n",
    "             callbacks=[stop_early])"
   ]
  },
  {
   "cell_type": "code",
   "execution_count": 57,
   "id": "fuzzy-wallpaper",
   "metadata": {},
   "outputs": [
    {
     "data": {
      "text/plain": [
       "<matplotlib.legend.Legend at 0x152c0d610>"
      ]
     },
     "execution_count": 57,
     "metadata": {},
     "output_type": "execute_result"
    },
    {
     "data": {
      "image/png": "[encoded data removed]",
      "text/plain": [
       "<Figure size 432x288 with 1 Axes>"
      ]
     },
     "metadata": {
      "needs_background": "light"
     },
     "output_type": "display_data"
    }
   ],
   "source": [
    "plt.semilogy(hist.history['loss'], label='loss')\n",
    "plt.semilogy(hist.history['val_loss'], label = 'val loss')\n",
    "plt.xlabel('Epoch')\n",
    "plt.legend()"
   ]
  },
  {
   "cell_type": "code",
   "execution_count": 58,
   "id": "composite-arkansas",
   "metadata": {},
   "outputs": [
    {
     "data": {
      "text/plain": [
       "<matplotlib.legend.Legend at 0x122fd82b0>"
      ]
     },
     "execution_count": 58,
     "metadata": {},
     "output_type": "execute_result"
    },
    {
     "data": {
      "image/png": "[encoded data removed]",
      "text/plain": [
       "<Figure size 432x288 with 1 Axes>"
      ]
     },
     "metadata": {
      "needs_background": "light"
     },
     "output_type": "display_data"
    }
   ],
   "source": [
    "plt.plot(hist.history['accuracy'], label='accuracy')\n",
    "plt.plot(hist.history['val_accuracy'], label = 'val accuracy')\n",
    "plt.xlabel('Epoch')\n",
    "plt.legend()"
   ]
  },
  {
   "cell_type": "code",
   "execution_count": 59,
   "id": "divided-volleyball",
   "metadata": {},
   "outputs": [],
   "source": [
    "#apply trained CNN to test data, convert test results to dataframe of groups of unique values"
   ]
  },
  {
   "cell_type": "code",
   "execution_count": 60,
   "id": "loaded-interpretation",
   "metadata": {},
   "outputs": [],
   "source": [
    "df_pivot = pd.DataFrame({'true':Y_test.to_numpy().argmax(axis=1),\\\n",
    "             'predict':model.predict(X_test_reduced).argmax(axis=1)})\n",
    "df_pivot = df_pivot.groupby(df_pivot.columns.tolist()).size().reset_index()\n",
    "df_pivot = df_pivot.pivot(\"true\", \"predict\", 0)"
   ]
  },
  {
   "cell_type": "code",
   "execution_count": 61,
   "id": "south-violence",
   "metadata": {},
   "outputs": [
    {
     "data": {
      "image/png": "[encoded data removed]",
      "text/plain": [
       "<Figure size 432x288 with 2 Axes>"
      ]
     },
     "metadata": {
      "needs_background": "light"
     },
     "output_type": "display_data"
    }
   ],
   "source": [
    "ax = sns.heatmap(df_pivot)"
   ]
  },
  {
   "cell_type": "code",
   "execution_count": 18,
   "id": "horizontal-salem",
   "metadata": {},
   "outputs": [],
   "source": [
    "#using module whose CNN is based on hyperparameters found in CNN_classifier_HParams.ipynb"
   ]
  },
  {
   "cell_type": "code",
   "execution_count": 15,
   "id": "laden-marketing",
   "metadata": {},
   "outputs": [],
   "source": [
    "import CNN_classifier_module"
   ]
  },
  {
   "cell_type": "code",
   "execution_count": 23,
   "id": "occupied-wings",
   "metadata": {},
   "outputs": [],
   "source": [
    "from importlib import reload"
   ]
  },
  {
   "cell_type": "code",
   "execution_count": 24,
   "id": "removable-applicant",
   "metadata": {},
   "outputs": [
    {
     "data": {
      "text/plain": [
       "<module 'CNN_classifier_module' from '/Users/birsigler/projects/ML/notebooks/CNN_classifier/CNN_classifier/CNN_classifier_module.py'>"
      ]
     },
     "execution_count": 24,
     "metadata": {},
     "output_type": "execute_result"
    }
   ],
   "source": [
    "reload(CNN_classifier_module)"
   ]
  },
  {
   "cell_type": "code",
   "execution_count": 25,
   "id": "spread-melissa",
   "metadata": {},
   "outputs": [],
   "source": [
    "cnn = CNN_classifier_module.CNN_classifier()"
   ]
  },
  {
   "cell_type": "code",
   "execution_count": 26,
   "id": "reserved-substance",
   "metadata": {},
   "outputs": [],
   "source": [
    "cnn.prepareData()"
   ]
  },
  {
   "cell_type": "code",
   "execution_count": 27,
   "id": "pressing-desktop",
   "metadata": {},
   "outputs": [],
   "source": [
    "cnn.CNN()"
   ]
  },
  {
   "cell_type": "code",
   "execution_count": 28,
   "id": "certain-module",
   "metadata": {},
   "outputs": [],
   "source": [
    "cnn.training(2000)"
   ]
  },
  {
   "cell_type": "code",
   "execution_count": 29,
   "id": "alive-breath",
   "metadata": {},
   "outputs": [
    {
     "data": {
      "image/png": "[encoded data removed]",
      "text/plain": [
       "<Figure size 432x288 with 1 Axes>"
      ]
     },
     "metadata": {
      "needs_background": "light"
     },
     "output_type": "display_data"
    }
   ],
   "source": [
    "cnn.plotLoss()"
   ]
  },
  {
   "cell_type": "code",
   "execution_count": 30,
   "id": "signed-venture",
   "metadata": {},
   "outputs": [
    {
     "data": {
      "image/png": "[encoded data removed]",
      "text/plain": [
       "<Figure size 432x288 with 1 Axes>"
      ]
     },
     "metadata": {
      "needs_background": "light"
     },
     "output_type": "display_data"
    }
   ],
   "source": [
    "cnn.plotAccuracy()"
   ]
  },
  {
   "cell_type": "code",
   "execution_count": 31,
   "id": "mobile-cooperation",
   "metadata": {},
   "outputs": [
    {
     "data": {
      "image/png": "[encoded data removed]",
      "text/plain": [
       "<Figure size 432x288 with 2 Axes>"
      ]
     },
     "metadata": {
      "needs_background": "light"
     },
     "output_type": "display_data"
    }
   ],
   "source": [
    "cnn.plotTestPrediction()"
   ]
  },
  {
   "cell_type": "code",
   "execution_count": null,
   "id": "stable-equivalent",
   "metadata": {},
   "outputs": [],
   "source": []
  }
 ],
 "metadata": {
  "kernelspec": {
   "display_name": "Python 3",
   "language": "python",
   "name": "python3"
  },
  "language_info": {
   "codemirror_mode": {
    "name": "ipython",
    "version": 3
   },
   "file_extension": ".py",
   "mimetype": "text/x-python",
   "name": "python",
   "nbconvert_exporter": "python",
   "pygments_lexer": "ipython3",
   "version": "3.8.6"
  }
 },
 "nbformat": 4,
 "nbformat_minor": 5
}
